{
 "cells": [
  {
   "cell_type": "markdown",
   "metadata": {},
   "source": [
    "<center><h1>Intro to Basic understanding of the data using Python</h1></center>\n",
    "\n",
    "<br>\n",
    "\n",
    "<img src=\"https://external-content.duckduckgo.com/iu/?u=https%3A%2F%2Fmiro.medium.com%2Fmax%2F1200%2F1*q1Kzs7KsEdMP3jQrciGC2A.jpeg&f=1&nofb=1\">\n",
    "\n",
    "<br>\n",
    "\n",
    "**Credits** - Image from Internet"
   ]
  },
  {
   "cell_type": "markdown",
   "metadata": {},
   "source": [
    "### Why Python for DA?"
   ]
  },
  {
   "cell_type": "markdown",
   "metadata": {},
   "source": [
    "* Python is very easy to get started.\n",
    "* Python is a good fit since it has all the requirements available for Data Analysis and Data Science.\n",
    "* Get more from less.\n",
    "* The community of Python is so large that you can find anything easily.\n",
    "\n",
    "**Note** - Check google trends for comaprison. \n",
    "\n",
    "* Before clicking the below link, please sign-in your google account on web.\n",
    "* Link → https://trends.google.com/trends/explore?cat=1299&q=%2Fm%2F05z1_,%2Fm%2F0212jm,%2Fm%2F0j3djl7\n",
    "\n",
    "<h4><center>\" But when it comes to speed compatibility, Python is slower. \"</center></h4>\n",
    "\n",
    "* Link → https://juliacomputing.com/blog/2020/06/fast-csv/"
   ]
  },
  {
   "cell_type": "markdown",
   "metadata": {},
   "source": [
    "<h1><center>Data Analysis vs Data Science</center></h1>"
   ]
  },
  {
   "cell_type": "markdown",
   "metadata": {},
   "source": [
    "<br>\n",
    "\n",
    "<!-- <img src=\"https://www.datapine.com/blog/wp-content/uploads/2018/12/data-science-vs-data-analytics-difference.png\"> -->\n",
    "<!-- <img src=\"https://external-content.duckduckgo.com/iu/?u=https%3A%2F%2Fwww.techiexpert.com%2Fwp-content%2Fuploads%2F2017%2F06%2FClose-look-at-Data-Scientist-vs-Data-Engineer2.png&f=1&nofb=1\"> -->\n",
    "<img src=\"https://external-content.duckduckgo.com/iu/?u=https%3A%2F%2Fdata36.com%2Fwp-content%2Fuploads%2F2019%2F02%2Fbusiness-data-science-1024x388.png&f=1&nofb=1\">\n",
    "\n",
    "<br>\n",
    "\n",
    "**Credits** - Image from Internet"
   ]
  },
  {
   "cell_type": "markdown",
   "metadata": {},
   "source": [
    "### Data Analyst's role"
   ]
  },
  {
   "cell_type": "markdown",
   "metadata": {},
   "source": [
    "As a Data Analyst, we often need to do the following things - \n",
    "\n",
    "* Data Collection\n",
    "* Data Cleaning\n",
    "* Data Organaising\n",
    "* Data Managing\n",
    "* Identify the goal of the problem statement\n",
    "* Finding insights in order achieve the goal\n",
    "\n",
    "**Questions like** - \n",
    "\n",
    "* WHY\n",
    "* HOW\n",
    "* WHEN\n",
    "* WHAT"
   ]
  },
  {
   "cell_type": "markdown",
   "metadata": {},
   "source": [
    "### Data Scientist's role"
   ]
  },
  {
   "cell_type": "markdown",
   "metadata": {},
   "source": [
    "Data Science is story telling process with the valid insights acquired from data to information. Thus helping to take decisions.\n",
    "\n",
    "* Design Data Models\n",
    "* Create or use Algorithms\n",
    "* Predict the future outcomes with accuracy\n",
    "* Make decisions from the insights\n",
    "\n",
    "More information - https://www.northeastern.edu/graduate/blog/what-does-a-data-scientist-do/\n",
    "\n",
    "**Note** - Data Scientist with anlaytical skills is a `Blessing upon the blessed`."
   ]
  },
  {
   "cell_type": "code",
   "execution_count": null,
   "metadata": {},
   "outputs": [],
   "source": []
  },
  {
   "cell_type": "code",
   "execution_count": null,
   "metadata": {},
   "outputs": [],
   "source": []
  },
  {
   "cell_type": "markdown",
   "metadata": {},
   "source": [
    "### Practise question"
   ]
  },
  {
   "cell_type": "markdown",
   "metadata": {},
   "source": [
    "1. Collect data from online using Pandas.\n",
    "2. Check if data cleaning is necessary.\n",
    "    - `yes` → Clean the data\n",
    "    -\n",
    "    - `no`  → Proceed\n",
    "3. Identify the relationship between data varaibles.\n",
    "    - Apply Correlation\n",
    "    - Plot the relationship\n",
    "\n",
    "<br>\n",
    "\n",
    "* **Data Source** → http://wiki.stat.ucla.edu/socr/index.php/SOCR_Data_Dinov_020108_HeightsWeights"
   ]
  },
  {
   "cell_type": "code",
   "execution_count": null,
   "metadata": {},
   "outputs": [],
   "source": []
  },
  {
   "cell_type": "code",
   "execution_count": null,
   "metadata": {},
   "outputs": [],
   "source": []
  },
  {
   "cell_type": "markdown",
   "metadata": {},
   "source": [
    "### 1. Collect data from online"
   ]
  },
  {
   "cell_type": "markdown",
   "metadata": {},
   "source": [
    "1. Pandas is python library mainly used for data analysis.\n",
    "2. It is similar to doing analysis on Excel.\n",
    "3. It is one of the best open source libraries avalibale for doing data manipulation and data wrangling.\n",
    "\n",
    "More information → https://pandas.pydata.org/"
   ]
  },
  {
   "cell_type": "code",
   "execution_count": 1,
   "metadata": {},
   "outputs": [],
   "source": [
    "import pandas as pd"
   ]
  },
  {
   "cell_type": "code",
   "execution_count": 2,
   "metadata": {},
   "outputs": [
    {
     "name": "stdout",
     "output_type": "stream",
     "text": [
      "Requirement already satisfied: pandas in c:\\users\\tapal\\appdata\\local\\programs\\python\\python38-32\\lib\\site-packages (1.1.3)Note: you may need to restart the kernel to use updated packages.\n",
      "Requirement already satisfied: pytz>=2017.2 in c:\\users\\tapal\\appdata\\roaming\\python\\python38\\site-packages (from pandas) (2020.1)\n",
      "Requirement already satisfied: python-dateutil>=2.7.3 in c:\\users\\tapal\\appdata\\roaming\\python\\python38\\site-packages (from pandas) (2.8.1)\n",
      "Requirement already satisfied: numpy>=1.15.4 in c:\\users\\tapal\\appdata\\local\\programs\\python\\python38-32\\lib\\site-packages (from pandas) (1.19.2)\n",
      "Requirement already satisfied: six>=1.5 in c:\\users\\tapal\\appdata\\roaming\\python\\python38\\site-packages (from python-dateutil>=2.7.3->pandas) (1.15.0)\n",
      "\n"
     ]
    }
   ],
   "source": [
    "pip install pandas --user"
   ]
  },
  {
   "cell_type": "markdown",
   "metadata": {},
   "source": [
    "`read_html()` extracts all the tables from the html page."
   ]
  },
  {
   "cell_type": "code",
   "execution_count": 3,
   "metadata": {},
   "outputs": [],
   "source": [
    "data_source = 'http://wiki.stat.ucla.edu/socr/index.php/SOCR_Data_Dinov_020108_HeightsWeights'\n",
    "data = pd.read_html(data_source)"
   ]
  },
  {
   "cell_type": "code",
   "execution_count": 4,
   "metadata": {},
   "outputs": [
    {
     "data": {
      "text/plain": [
       "list"
      ]
     },
     "execution_count": 4,
     "metadata": {},
     "output_type": "execute_result"
    }
   ],
   "source": [
    "type(data)"
   ]
  },
  {
   "cell_type": "code",
   "execution_count": 5,
   "metadata": {},
   "outputs": [
    {
     "data": {
      "text/plain": [
       "3"
      ]
     },
     "execution_count": 5,
     "metadata": {},
     "output_type": "execute_result"
    }
   ],
   "source": [
    "len(data)"
   ]
  },
  {
   "cell_type": "code",
   "execution_count": 6,
   "metadata": {},
   "outputs": [
    {
     "data": {
      "text/html": [
       "<div>\n",
       "<style scoped>\n",
       "    .dataframe tbody tr th:only-of-type {\n",
       "        vertical-align: middle;\n",
       "    }\n",
       "\n",
       "    .dataframe tbody tr th {\n",
       "        vertical-align: top;\n",
       "    }\n",
       "\n",
       "    .dataframe thead th {\n",
       "        text-align: right;\n",
       "    }\n",
       "</style>\n",
       "<table border=\"1\" class=\"dataframe\">\n",
       "  <thead>\n",
       "    <tr style=\"text-align: right;\">\n",
       "      <th></th>\n",
       "      <th>0</th>\n",
       "    </tr>\n",
       "  </thead>\n",
       "  <tbody>\n",
       "    <tr>\n",
       "      <th>0</th>\n",
       "      <td>Contents 1 SOCR Data - 25,000 Records of Human...</td>\n",
       "    </tr>\n",
       "  </tbody>\n",
       "</table>\n",
       "</div>"
      ],
      "text/plain": [
       "                                                   0\n",
       "0  Contents 1 SOCR Data - 25,000 Records of Human..."
      ]
     },
     "execution_count": 6,
     "metadata": {},
     "output_type": "execute_result"
    }
   ],
   "source": [
    "data[0]"
   ]
  },
  {
   "cell_type": "code",
   "execution_count": 7,
   "metadata": {},
   "outputs": [
    {
     "data": {
      "text/html": [
       "<div>\n",
       "<style scoped>\n",
       "    .dataframe tbody tr th:only-of-type {\n",
       "        vertical-align: middle;\n",
       "    }\n",
       "\n",
       "    .dataframe tbody tr th {\n",
       "        vertical-align: top;\n",
       "    }\n",
       "\n",
       "    .dataframe thead th {\n",
       "        text-align: right;\n",
       "    }\n",
       "</style>\n",
       "<table border=\"1\" class=\"dataframe\">\n",
       "  <thead>\n",
       "    <tr style=\"text-align: right;\">\n",
       "      <th></th>\n",
       "      <th>Index</th>\n",
       "      <th>Height(Inches)</th>\n",
       "      <th>Weight(Pounds)</th>\n",
       "    </tr>\n",
       "  </thead>\n",
       "  <tbody>\n",
       "    <tr>\n",
       "      <th>0</th>\n",
       "      <td>1</td>\n",
       "      <td>65.78</td>\n",
       "      <td>112.99</td>\n",
       "    </tr>\n",
       "    <tr>\n",
       "      <th>1</th>\n",
       "      <td>2</td>\n",
       "      <td>71.52</td>\n",
       "      <td>136.49</td>\n",
       "    </tr>\n",
       "    <tr>\n",
       "      <th>2</th>\n",
       "      <td>3</td>\n",
       "      <td>69.40</td>\n",
       "      <td>153.03</td>\n",
       "    </tr>\n",
       "    <tr>\n",
       "      <th>3</th>\n",
       "      <td>4</td>\n",
       "      <td>68.22</td>\n",
       "      <td>142.34</td>\n",
       "    </tr>\n",
       "    <tr>\n",
       "      <th>4</th>\n",
       "      <td>5</td>\n",
       "      <td>67.79</td>\n",
       "      <td>144.30</td>\n",
       "    </tr>\n",
       "    <tr>\n",
       "      <th>...</th>\n",
       "      <td>...</td>\n",
       "      <td>...</td>\n",
       "      <td>...</td>\n",
       "    </tr>\n",
       "    <tr>\n",
       "      <th>195</th>\n",
       "      <td>196</td>\n",
       "      <td>65.80</td>\n",
       "      <td>120.84</td>\n",
       "    </tr>\n",
       "    <tr>\n",
       "      <th>196</th>\n",
       "      <td>197</td>\n",
       "      <td>66.11</td>\n",
       "      <td>115.78</td>\n",
       "    </tr>\n",
       "    <tr>\n",
       "      <th>197</th>\n",
       "      <td>198</td>\n",
       "      <td>68.24</td>\n",
       "      <td>128.30</td>\n",
       "    </tr>\n",
       "    <tr>\n",
       "      <th>198</th>\n",
       "      <td>199</td>\n",
       "      <td>68.02</td>\n",
       "      <td>127.47</td>\n",
       "    </tr>\n",
       "    <tr>\n",
       "      <th>199</th>\n",
       "      <td>200</td>\n",
       "      <td>71.39</td>\n",
       "      <td>127.88</td>\n",
       "    </tr>\n",
       "  </tbody>\n",
       "</table>\n",
       "<p>200 rows × 3 columns</p>\n",
       "</div>"
      ],
      "text/plain": [
       "     Index  Height(Inches)  Weight(Pounds)\n",
       "0        1           65.78          112.99\n",
       "1        2           71.52          136.49\n",
       "2        3           69.40          153.03\n",
       "3        4           68.22          142.34\n",
       "4        5           67.79          144.30\n",
       "..     ...             ...             ...\n",
       "195    196           65.80          120.84\n",
       "196    197           66.11          115.78\n",
       "197    198           68.24          128.30\n",
       "198    199           68.02          127.47\n",
       "199    200           71.39          127.88\n",
       "\n",
       "[200 rows x 3 columns]"
      ]
     },
     "execution_count": 7,
     "metadata": {},
     "output_type": "execute_result"
    }
   ],
   "source": [
    "data[1]"
   ]
  },
  {
   "cell_type": "code",
   "execution_count": 8,
   "metadata": {},
   "outputs": [
    {
     "data": {
      "text/html": [
       "<div>\n",
       "<style scoped>\n",
       "    .dataframe tbody tr th:only-of-type {\n",
       "        vertical-align: middle;\n",
       "    }\n",
       "\n",
       "    .dataframe tbody tr th {\n",
       "        vertical-align: top;\n",
       "    }\n",
       "\n",
       "    .dataframe thead th {\n",
       "        text-align: right;\n",
       "    }\n",
       "</style>\n",
       "<table border=\"1\" class=\"dataframe\">\n",
       "  <thead>\n",
       "    <tr style=\"text-align: right;\">\n",
       "      <th></th>\n",
       "      <th>0</th>\n",
       "      <th>1</th>\n",
       "      <th>2</th>\n",
       "      <th>3</th>\n",
       "      <th>4</th>\n",
       "      <th>5</th>\n",
       "      <th>6</th>\n",
       "      <th>7</th>\n",
       "      <th>8</th>\n",
       "      <th>9</th>\n",
       "      <th>10</th>\n",
       "      <th>11</th>\n",
       "    </tr>\n",
       "  </thead>\n",
       "  <tbody>\n",
       "    <tr>\n",
       "      <th>0</th>\n",
       "      <td>(default)</td>\n",
       "      <td>Deutsch</td>\n",
       "      <td>Español</td>\n",
       "      <td>Français</td>\n",
       "      <td>Italiano</td>\n",
       "      <td>Português</td>\n",
       "      <td>日本語</td>\n",
       "      <td>България</td>\n",
       "      <td>الامارات العربية المتحدة</td>\n",
       "      <td>Suomi</td>\n",
       "      <td>इस भाषा में</td>\n",
       "      <td>Norge</td>\n",
       "    </tr>\n",
       "    <tr>\n",
       "      <th>1</th>\n",
       "      <td>한국어</td>\n",
       "      <td>中文</td>\n",
       "      <td>繁体中文</td>\n",
       "      <td>Русский</td>\n",
       "      <td>Nederlands</td>\n",
       "      <td>Ελληνικά</td>\n",
       "      <td>Hrvatska</td>\n",
       "      <td>Česká republika</td>\n",
       "      <td>Danmark</td>\n",
       "      <td>Polska</td>\n",
       "      <td>România</td>\n",
       "      <td>Sverige</td>\n",
       "    </tr>\n",
       "  </tbody>\n",
       "</table>\n",
       "</div>"
      ],
      "text/plain": [
       "          0        1        2         3           4          5         6   \\\n",
       "0  (default)  Deutsch  Español  Français    Italiano  Português       日本語   \n",
       "1        한국어       中文     繁体中文   Русский  Nederlands   Ελληνικά  Hrvatska   \n",
       "\n",
       "                7                         8       9            10       11  \n",
       "0         България  الامارات العربية المتحدة   Suomi  इस भाषा में    Norge  \n",
       "1  Česká republika                   Danmark  Polska      România  Sverige  "
      ]
     },
     "execution_count": 8,
     "metadata": {},
     "output_type": "execute_result"
    }
   ],
   "source": [
    "data[2]"
   ]
  },
  {
   "cell_type": "code",
   "execution_count": 9,
   "metadata": {
    "scrolled": true
   },
   "outputs": [],
   "source": [
    "df = data[1]"
   ]
  },
  {
   "cell_type": "code",
   "execution_count": 10,
   "metadata": {},
   "outputs": [
    {
     "data": {
      "text/html": [
       "<div>\n",
       "<style scoped>\n",
       "    .dataframe tbody tr th:only-of-type {\n",
       "        vertical-align: middle;\n",
       "    }\n",
       "\n",
       "    .dataframe tbody tr th {\n",
       "        vertical-align: top;\n",
       "    }\n",
       "\n",
       "    .dataframe thead th {\n",
       "        text-align: right;\n",
       "    }\n",
       "</style>\n",
       "<table border=\"1\" class=\"dataframe\">\n",
       "  <thead>\n",
       "    <tr style=\"text-align: right;\">\n",
       "      <th></th>\n",
       "      <th>Index</th>\n",
       "      <th>Height(Inches)</th>\n",
       "      <th>Weight(Pounds)</th>\n",
       "    </tr>\n",
       "  </thead>\n",
       "  <tbody>\n",
       "    <tr>\n",
       "      <th>0</th>\n",
       "      <td>1</td>\n",
       "      <td>65.78</td>\n",
       "      <td>112.99</td>\n",
       "    </tr>\n",
       "    <tr>\n",
       "      <th>1</th>\n",
       "      <td>2</td>\n",
       "      <td>71.52</td>\n",
       "      <td>136.49</td>\n",
       "    </tr>\n",
       "    <tr>\n",
       "      <th>2</th>\n",
       "      <td>3</td>\n",
       "      <td>69.40</td>\n",
       "      <td>153.03</td>\n",
       "    </tr>\n",
       "    <tr>\n",
       "      <th>3</th>\n",
       "      <td>4</td>\n",
       "      <td>68.22</td>\n",
       "      <td>142.34</td>\n",
       "    </tr>\n",
       "    <tr>\n",
       "      <th>4</th>\n",
       "      <td>5</td>\n",
       "      <td>67.79</td>\n",
       "      <td>144.30</td>\n",
       "    </tr>\n",
       "  </tbody>\n",
       "</table>\n",
       "</div>"
      ],
      "text/plain": [
       "   Index  Height(Inches)  Weight(Pounds)\n",
       "0      1           65.78          112.99\n",
       "1      2           71.52          136.49\n",
       "2      3           69.40          153.03\n",
       "3      4           68.22          142.34\n",
       "4      5           67.79          144.30"
      ]
     },
     "execution_count": 10,
     "metadata": {},
     "output_type": "execute_result"
    }
   ],
   "source": [
    "df.head(5)"
   ]
  },
  {
   "cell_type": "markdown",
   "metadata": {},
   "source": [
    "### 2. Check if data cleaning is necessary"
   ]
  },
  {
   "cell_type": "markdown",
   "metadata": {},
   "source": [
    "Data Cleaning is one of the important aspects in both Data Analysis and Data Science roles.\n",
    "\n",
    "* It is one of the procedural steps where a data analyst or data scientist spends most of their time.\n",
    "\n",
    "More information → https://en.wikipedia.org/wiki/Data_cleansing"
   ]
  },
  {
   "cell_type": "markdown",
   "metadata": {},
   "source": [
    "**a. Check for any `NaN` values → Missing values**"
   ]
  },
  {
   "cell_type": "code",
   "execution_count": 11,
   "metadata": {},
   "outputs": [
    {
     "data": {
      "text/plain": [
       "Index             False\n",
       "Height(Inches)    False\n",
       "Weight(Pounds)    False\n",
       "dtype: bool"
      ]
     },
     "execution_count": 11,
     "metadata": {},
     "output_type": "execute_result"
    }
   ],
   "source": [
    "df.isnull().any()"
   ]
  },
  {
   "cell_type": "markdown",
   "metadata": {},
   "source": [
    "* Since the dataset is sort of big, we cannot see all the values. Infact we cannot comprehend the actual missing values from the `isna()` dataset.\n",
    "\n",
    "* In order to get the actual values (indices), the below function can be used."
   ]
  },
  {
   "cell_type": "markdown",
   "metadata": {},
   "source": [
    "Above result is clear, every column has `non-nan` values. Hence we can proceed with further steps."
   ]
  },
  {
   "cell_type": "markdown",
   "metadata": {},
   "source": [
    "**b. Check for the `datatypes` from each column**"
   ]
  },
  {
   "cell_type": "code",
   "execution_count": 12,
   "metadata": {
    "scrolled": false
   },
   "outputs": [
    {
     "data": {
      "text/plain": [
       "Index               int64\n",
       "Height(Inches)    float64\n",
       "Weight(Pounds)    float64\n",
       "dtype: object"
      ]
     },
     "execution_count": 12,
     "metadata": {},
     "output_type": "execute_result"
    }
   ],
   "source": [
    "df.dtypes"
   ]
  },
  {
   "cell_type": "code",
   "execution_count": 13,
   "metadata": {},
   "outputs": [
    {
     "name": "stdout",
     "output_type": "stream",
     "text": [
      "<class 'pandas.core.frame.DataFrame'>\n",
      "RangeIndex: 200 entries, 0 to 199\n",
      "Data columns (total 3 columns):\n",
      " #   Column          Non-Null Count  Dtype  \n",
      "---  ------          --------------  -----  \n",
      " 0   Index           200 non-null    int64  \n",
      " 1   Height(Inches)  200 non-null    float64\n",
      " 2   Weight(Pounds)  200 non-null    float64\n",
      "dtypes: float64(2), int64(1)\n",
      "memory usage: 4.8 KB\n"
     ]
    }
   ],
   "source": [
    "df.info()"
   ]
  },
  {
   "cell_type": "markdown",
   "metadata": {},
   "source": [
    "Seems like every column has a unique data type. If at all there is then it is required to purify the data - make sure all the values are of same type."
   ]
  },
  {
   "cell_type": "markdown",
   "metadata": {},
   "source": [
    "**c. Overall description of the data frame**"
   ]
  },
  {
   "cell_type": "code",
   "execution_count": 14,
   "metadata": {},
   "outputs": [
    {
     "data": {
      "text/html": [
       "<div>\n",
       "<style scoped>\n",
       "    .dataframe tbody tr th:only-of-type {\n",
       "        vertical-align: middle;\n",
       "    }\n",
       "\n",
       "    .dataframe tbody tr th {\n",
       "        vertical-align: top;\n",
       "    }\n",
       "\n",
       "    .dataframe thead th {\n",
       "        text-align: right;\n",
       "    }\n",
       "</style>\n",
       "<table border=\"1\" class=\"dataframe\">\n",
       "  <thead>\n",
       "    <tr style=\"text-align: right;\">\n",
       "      <th></th>\n",
       "      <th>Index</th>\n",
       "      <th>Height(Inches)</th>\n",
       "      <th>Weight(Pounds)</th>\n",
       "    </tr>\n",
       "  </thead>\n",
       "  <tbody>\n",
       "    <tr>\n",
       "      <th>count</th>\n",
       "      <td>200.000000</td>\n",
       "      <td>200.000000</td>\n",
       "      <td>200.000000</td>\n",
       "    </tr>\n",
       "    <tr>\n",
       "      <th>mean</th>\n",
       "      <td>100.500000</td>\n",
       "      <td>67.949800</td>\n",
       "      <td>127.221950</td>\n",
       "    </tr>\n",
       "    <tr>\n",
       "      <th>std</th>\n",
       "      <td>57.879185</td>\n",
       "      <td>1.940363</td>\n",
       "      <td>11.960959</td>\n",
       "    </tr>\n",
       "    <tr>\n",
       "      <th>min</th>\n",
       "      <td>1.000000</td>\n",
       "      <td>63.430000</td>\n",
       "      <td>97.900000</td>\n",
       "    </tr>\n",
       "    <tr>\n",
       "      <th>25%</th>\n",
       "      <td>50.750000</td>\n",
       "      <td>66.522500</td>\n",
       "      <td>119.895000</td>\n",
       "    </tr>\n",
       "    <tr>\n",
       "      <th>50%</th>\n",
       "      <td>100.500000</td>\n",
       "      <td>67.935000</td>\n",
       "      <td>127.875000</td>\n",
       "    </tr>\n",
       "    <tr>\n",
       "      <th>75%</th>\n",
       "      <td>150.250000</td>\n",
       "      <td>69.202500</td>\n",
       "      <td>136.097500</td>\n",
       "    </tr>\n",
       "    <tr>\n",
       "      <th>max</th>\n",
       "      <td>200.000000</td>\n",
       "      <td>73.900000</td>\n",
       "      <td>158.960000</td>\n",
       "    </tr>\n",
       "  </tbody>\n",
       "</table>\n",
       "</div>"
      ],
      "text/plain": [
       "            Index  Height(Inches)  Weight(Pounds)\n",
       "count  200.000000      200.000000      200.000000\n",
       "mean   100.500000       67.949800      127.221950\n",
       "std     57.879185        1.940363       11.960959\n",
       "min      1.000000       63.430000       97.900000\n",
       "25%     50.750000       66.522500      119.895000\n",
       "50%    100.500000       67.935000      127.875000\n",
       "75%    150.250000       69.202500      136.097500\n",
       "max    200.000000       73.900000      158.960000"
      ]
     },
     "execution_count": 14,
     "metadata": {},
     "output_type": "execute_result"
    }
   ],
   "source": [
    "df.describe()"
   ]
  },
  {
   "cell_type": "markdown",
   "metadata": {},
   "source": [
    "**d. Some visualization to explore more about the data**"
   ]
  },
  {
   "cell_type": "markdown",
   "metadata": {},
   "source": [
    "* We can use pandas plotting functions like `plot()` to explore about the data visually.\n",
    "* `plot()` can show the following plots - \n",
    "\n",
    "    - **line**    → line plot (default)\n",
    "    - **bar**     → vertical bar plot\n",
    "    - **barh**    → horizontal bar plot\n",
    "    - **hist**    → histogram\n",
    "    - **box**     → boxplot\n",
    "    - **kde**     → Kernel Density Estimation plot\n",
    "    - **density** → same as 'kde'\n",
    "    - **area**    → area plot\n",
    "    - **pie**     → pie plot\n",
    "    - **scatter** → scatter plot\n",
    "    - **hexbin**  → hexbin plot"
   ]
  },
  {
   "cell_type": "markdown",
   "metadata": {},
   "source": [
    "**Ugly plot example**"
   ]
  },
  {
   "cell_type": "code",
   "execution_count": 15,
   "metadata": {
    "scrolled": true
   },
   "outputs": [
    {
     "data": {
      "text/plain": [
       "<AxesSubplot:>"
      ]
     },
     "execution_count": 15,
     "metadata": {},
     "output_type": "execute_result"
    },
    {
     "data": {
      "image/png": "[encoded data removed]",
      "text/plain": [
       "<Figure size 432x288 with 1 Axes>"
      ]
     },
     "metadata": {
      "needs_background": "light"
     },
     "output_type": "display_data"
    }
   ],
   "source": [
    "df.plot()"
   ]
  },
  {
   "cell_type": "markdown",
   "metadata": {},
   "source": [
    "The above is the plot of all the data variables. This is not something we should do."
   ]
  },
  {
   "cell_type": "markdown",
   "metadata": {},
   "source": [
    "**Plotting without unimportant data variables** - excluded `Index`"
   ]
  },
  {
   "cell_type": "code",
   "execution_count": 16,
   "metadata": {},
   "outputs": [
    {
     "data": {
      "text/plain": [
       "0      112.99\n",
       "1      136.49\n",
       "2      153.03\n",
       "3      142.34\n",
       "4      144.30\n",
       "        ...  \n",
       "195    120.84\n",
       "196    115.78\n",
       "197    128.30\n",
       "198    127.47\n",
       "199    127.88\n",
       "Name: Weight(Pounds), Length: 200, dtype: float64"
      ]
     },
     "execution_count": 16,
     "metadata": {},
     "output_type": "execute_result"
    }
   ],
   "source": [
    "df['Weight(Pounds)']"
   ]
  },
  {
   "cell_type": "code",
   "execution_count": 17,
   "metadata": {},
   "outputs": [
    {
     "data": {
      "text/html": [
       "<div>\n",
       "<style scoped>\n",
       "    .dataframe tbody tr th:only-of-type {\n",
       "        vertical-align: middle;\n",
       "    }\n",
       "\n",
       "    .dataframe tbody tr th {\n",
       "        vertical-align: top;\n",
       "    }\n",
       "\n",
       "    .dataframe thead th {\n",
       "        text-align: right;\n",
       "    }\n",
       "</style>\n",
       "<table border=\"1\" class=\"dataframe\">\n",
       "  <thead>\n",
       "    <tr style=\"text-align: right;\">\n",
       "      <th></th>\n",
       "      <th>Height(Inches)</th>\n",
       "      <th>Weight(Pounds)</th>\n",
       "    </tr>\n",
       "  </thead>\n",
       "  <tbody>\n",
       "    <tr>\n",
       "      <th>0</th>\n",
       "      <td>65.78</td>\n",
       "      <td>112.99</td>\n",
       "    </tr>\n",
       "    <tr>\n",
       "      <th>1</th>\n",
       "      <td>71.52</td>\n",
       "      <td>136.49</td>\n",
       "    </tr>\n",
       "    <tr>\n",
       "      <th>2</th>\n",
       "      <td>69.40</td>\n",
       "      <td>153.03</td>\n",
       "    </tr>\n",
       "    <tr>\n",
       "      <th>3</th>\n",
       "      <td>68.22</td>\n",
       "      <td>142.34</td>\n",
       "    </tr>\n",
       "    <tr>\n",
       "      <th>4</th>\n",
       "      <td>67.79</td>\n",
       "      <td>144.30</td>\n",
       "    </tr>\n",
       "    <tr>\n",
       "      <th>...</th>\n",
       "      <td>...</td>\n",
       "      <td>...</td>\n",
       "    </tr>\n",
       "    <tr>\n",
       "      <th>195</th>\n",
       "      <td>65.80</td>\n",
       "      <td>120.84</td>\n",
       "    </tr>\n",
       "    <tr>\n",
       "      <th>196</th>\n",
       "      <td>66.11</td>\n",
       "      <td>115.78</td>\n",
       "    </tr>\n",
       "    <tr>\n",
       "      <th>197</th>\n",
       "      <td>68.24</td>\n",
       "      <td>128.30</td>\n",
       "    </tr>\n",
       "    <tr>\n",
       "      <th>198</th>\n",
       "      <td>68.02</td>\n",
       "      <td>127.47</td>\n",
       "    </tr>\n",
       "    <tr>\n",
       "      <th>199</th>\n",
       "      <td>71.39</td>\n",
       "      <td>127.88</td>\n",
       "    </tr>\n",
       "  </tbody>\n",
       "</table>\n",
       "<p>200 rows × 2 columns</p>\n",
       "</div>"
      ],
      "text/plain": [
       "     Height(Inches)  Weight(Pounds)\n",
       "0             65.78          112.99\n",
       "1             71.52          136.49\n",
       "2             69.40          153.03\n",
       "3             68.22          142.34\n",
       "4             67.79          144.30\n",
       "..              ...             ...\n",
       "195           65.80          120.84\n",
       "196           66.11          115.78\n",
       "197           68.24          128.30\n",
       "198           68.02          127.47\n",
       "199           71.39          127.88\n",
       "\n",
       "[200 rows x 2 columns]"
      ]
     },
     "execution_count": 17,
     "metadata": {},
     "output_type": "execute_result"
    }
   ],
   "source": [
    "df[['Height(Inches)', 'Weight(Pounds)']]"
   ]
  },
  {
   "cell_type": "code",
   "execution_count": 18,
   "metadata": {
    "scrolled": true
   },
   "outputs": [
    {
     "data": {
      "text/plain": [
       "<AxesSubplot:>"
      ]
     },
     "execution_count": 18,
     "metadata": {},
     "output_type": "execute_result"
    },
    {
     "data": {
      "image/png": "[encoded data removed]",
      "text/plain": [
       "<Figure size 432x288 with 1 Axes>"
      ]
     },
     "metadata": {
      "needs_background": "light"
     },
     "output_type": "display_data"
    }
   ],
   "source": [
    "df[['Height(Inches)', 'Weight(Pounds)']].plot()"
   ]
  },
  {
   "cell_type": "markdown",
   "metadata": {},
   "source": [
    "The above is the plot of both `Heights` and `Weights` from the data frame `df`."
   ]
  },
  {
   "cell_type": "code",
   "execution_count": null,
   "metadata": {},
   "outputs": [],
   "source": []
  },
  {
   "cell_type": "code",
   "execution_count": null,
   "metadata": {},
   "outputs": [],
   "source": []
  },
  {
   "cell_type": "markdown",
   "metadata": {},
   "source": [
    "### 3. Relationship between data variables"
   ]
  },
  {
   "cell_type": "markdown",
   "metadata": {},
   "source": [
    "**Correlation** - one of the statistical measurements applied to find out if any two variables are linrealy related.\n",
    "\n",
    "* If one varibles is increasing, then other variable also increases. Vice versa.\n",
    "* For example\n",
    "    - If income of an employee increases then the household expenses increase.\n",
    "    - If income of an employee decreases then the household expenses decrease.\n",
    "    \n",
    "* Scatter plot is really helpful to find the relationship between two variables. With this, it can be easily noticed the linear trend as well."
   ]
  },
  {
   "cell_type": "markdown",
   "metadata": {},
   "source": [
    "**Correlation plots** based on the correlation value obtained. → https://en.wikipedia.org/wiki/Correlation_and_dependence#/media/File:Correlation_examples2.svg"
   ]
  },
  {
   "cell_type": "markdown",
   "metadata": {},
   "source": [
    "**b. Plot the relationship**"
   ]
  },
  {
   "cell_type": "code",
   "execution_count": 19,
   "metadata": {
    "scrolled": false
   },
   "outputs": [
    {
     "data": {
      "text/plain": [
       "<AxesSubplot:xlabel='Height(Inches)', ylabel='Weight(Pounds)'>"
      ]
     },
     "execution_count": 19,
     "metadata": {},
     "output_type": "execute_result"
    },
    {
     "data": {
      "image/png": "[encoded data removed]",
      "text/plain": [
       "<Figure size 432x288 with 1 Axes>"
      ]
     },
     "metadata": {
      "needs_background": "light"
     },
     "output_type": "display_data"
    }
   ],
   "source": [
    "df.plot(x='Height(Inches)', y='Weight(Pounds)', kind='scatter')"
   ]
  },
  {
   "cell_type": "markdown",
   "metadata": {},
   "source": [
    "From the above plot, we can see that when `Heights` increase, then `Weights` also increased.\n",
    "\n",
    "What if we interchange the values?"
   ]
  },
  {
   "cell_type": "code",
   "execution_count": 20,
   "metadata": {
    "scrolled": true
   },
   "outputs": [
    {
     "data": {
      "text/plain": [
       "<AxesSubplot:xlabel='Weight(Pounds)', ylabel='Height(Inches)'>"
      ]
     },
     "execution_count": 20,
     "metadata": {},
     "output_type": "execute_result"
    },
    {
     "data": {
      "image/png": "[encoded data removed]",
      "text/plain": [
       "<Figure size 432x288 with 1 Axes>"
      ]
     },
     "metadata": {
      "needs_background": "light"
     },
     "output_type": "display_data"
    }
   ],
   "source": [
    "df.plot(y='Height(Inches)', x='Weight(Pounds)', kind='scatter')"
   ]
  },
  {
   "cell_type": "markdown",
   "metadata": {},
   "source": [
    "**a. Find the Correlation**"
   ]
  },
  {
   "cell_type": "markdown",
   "metadata": {},
   "source": [
    "Correlation value ranges from `-1` to `1`.\n",
    "\n",
    "* If the calculated correlation value is - \n",
    "    - **-1**, then it is perfectly **negative correlation**\n",
    "    - **1**, then it is perfectly **positive correlation**\n",
    "    - **< -1**, then it means that **error** in the correlation measurement\n",
    "    - **> 1**, then it means that **error** in the correlation measurement\n",
    "\n",
    "More information → https://www.investopedia.com/terms/c/correlationcoefficient.asp"
   ]
  },
  {
   "cell_type": "code",
   "execution_count": 21,
   "metadata": {
    "scrolled": true
   },
   "outputs": [
    {
     "data": {
      "text/html": [
       "<div>\n",
       "<style scoped>\n",
       "    .dataframe tbody tr th:only-of-type {\n",
       "        vertical-align: middle;\n",
       "    }\n",
       "\n",
       "    .dataframe tbody tr th {\n",
       "        vertical-align: top;\n",
       "    }\n",
       "\n",
       "    .dataframe thead th {\n",
       "        text-align: right;\n",
       "    }\n",
       "</style>\n",
       "<table border=\"1\" class=\"dataframe\">\n",
       "  <thead>\n",
       "    <tr style=\"text-align: right;\">\n",
       "      <th></th>\n",
       "      <th>Index</th>\n",
       "      <th>Height(Inches)</th>\n",
       "      <th>Weight(Pounds)</th>\n",
       "    </tr>\n",
       "  </thead>\n",
       "  <tbody>\n",
       "    <tr>\n",
       "      <th>Index</th>\n",
       "      <td>1.000000</td>\n",
       "      <td>-0.094260</td>\n",
       "      <td>-0.128882</td>\n",
       "    </tr>\n",
       "    <tr>\n",
       "      <th>Height(Inches)</th>\n",
       "      <td>-0.094260</td>\n",
       "      <td>1.000000</td>\n",
       "      <td>0.556865</td>\n",
       "    </tr>\n",
       "    <tr>\n",
       "      <th>Weight(Pounds)</th>\n",
       "      <td>-0.128882</td>\n",
       "      <td>0.556865</td>\n",
       "      <td>1.000000</td>\n",
       "    </tr>\n",
       "  </tbody>\n",
       "</table>\n",
       "</div>"
      ],
      "text/plain": [
       "                   Index  Height(Inches)  Weight(Pounds)\n",
       "Index           1.000000       -0.094260       -0.128882\n",
       "Height(Inches) -0.094260        1.000000        0.556865\n",
       "Weight(Pounds) -0.128882        0.556865        1.000000"
      ]
     },
     "execution_count": 21,
     "metadata": {},
     "output_type": "execute_result"
    }
   ],
   "source": [
    "df.corr()"
   ]
  },
  {
   "cell_type": "code",
   "execution_count": 22,
   "metadata": {
    "scrolled": false
   },
   "outputs": [
    {
     "data": {
      "text/html": [
       "<style  type=\"text/css\" >\n",
       "#T_d639a2ac_6890_11eb_9cb4_040e3ca13135row0_col0,#T_d639a2ac_6890_11eb_9cb4_040e3ca13135row1_col1,#T_d639a2ac_6890_11eb_9cb4_040e3ca13135row2_col2{\n",
       "            background-color:  #67000d;\n",
       "            color:  #f1f1f1;\n",
       "        }#T_d639a2ac_6890_11eb_9cb4_040e3ca13135row0_col1,#T_d639a2ac_6890_11eb_9cb4_040e3ca13135row0_col2,#T_d639a2ac_6890_11eb_9cb4_040e3ca13135row2_col0{\n",
       "            background-color:  #fff5f0;\n",
       "            color:  #000000;\n",
       "        }#T_d639a2ac_6890_11eb_9cb4_040e3ca13135row1_col0{\n",
       "            background-color:  #fff0e9;\n",
       "            color:  #000000;\n",
       "        }#T_d639a2ac_6890_11eb_9cb4_040e3ca13135row1_col2{\n",
       "            background-color:  #f14130;\n",
       "            color:  #f1f1f1;\n",
       "        }#T_d639a2ac_6890_11eb_9cb4_040e3ca13135row2_col1{\n",
       "            background-color:  #f24633;\n",
       "            color:  #000000;\n",
       "        }</style><table id=\"T_d639a2ac_6890_11eb_9cb4_040e3ca13135\" ><thead>    <tr>        <th class=\"blank level0\" ></th>        <th class=\"col_heading level0 col0\" >Index</th>        <th class=\"col_heading level0 col1\" >Height(Inches)</th>        <th class=\"col_heading level0 col2\" >Weight(Pounds)</th>    </tr></thead><tbody>\n",
       "                <tr>\n",
       "                        <th id=\"T_d639a2ac_6890_11eb_9cb4_040e3ca13135level0_row0\" class=\"row_heading level0 row0\" >Index</th>\n",
       "                        <td id=\"T_d639a2ac_6890_11eb_9cb4_040e3ca13135row0_col0\" class=\"data row0 col0\" >1.000000</td>\n",
       "                        <td id=\"T_d639a2ac_6890_11eb_9cb4_040e3ca13135row0_col1\" class=\"data row0 col1\" >-0.094260</td>\n",
       "                        <td id=\"T_d639a2ac_6890_11eb_9cb4_040e3ca13135row0_col2\" class=\"data row0 col2\" >-0.128882</td>\n",
       "            </tr>\n",
       "            <tr>\n",
       "                        <th id=\"T_d639a2ac_6890_11eb_9cb4_040e3ca13135level0_row1\" class=\"row_heading level0 row1\" >Height(Inches)</th>\n",
       "                        <td id=\"T_d639a2ac_6890_11eb_9cb4_040e3ca13135row1_col0\" class=\"data row1 col0\" >-0.094260</td>\n",
       "                        <td id=\"T_d639a2ac_6890_11eb_9cb4_040e3ca13135row1_col1\" class=\"data row1 col1\" >1.000000</td>\n",
       "                        <td id=\"T_d639a2ac_6890_11eb_9cb4_040e3ca13135row1_col2\" class=\"data row1 col2\" >0.556865</td>\n",
       "            </tr>\n",
       "            <tr>\n",
       "                        <th id=\"T_d639a2ac_6890_11eb_9cb4_040e3ca13135level0_row2\" class=\"row_heading level0 row2\" >Weight(Pounds)</th>\n",
       "                        <td id=\"T_d639a2ac_6890_11eb_9cb4_040e3ca13135row2_col0\" class=\"data row2 col0\" >-0.128882</td>\n",
       "                        <td id=\"T_d639a2ac_6890_11eb_9cb4_040e3ca13135row2_col1\" class=\"data row2 col1\" >0.556865</td>\n",
       "                        <td id=\"T_d639a2ac_6890_11eb_9cb4_040e3ca13135row2_col2\" class=\"data row2 col2\" >1.000000</td>\n",
       "            </tr>\n",
       "    </tbody></table>"
      ],
      "text/plain": [
       "<pandas.io.formats.style.Styler at 0xd354100>"
      ]
     },
     "execution_count": 22,
     "metadata": {},
     "output_type": "execute_result"
    }
   ],
   "source": [
    "relation = df.corr()\n",
    "relation.style.background_gradient(cmap='Reds')"
   ]
  },
  {
   "cell_type": "code",
   "execution_count": null,
   "metadata": {},
   "outputs": [],
   "source": []
  },
  {
   "cell_type": "code",
   "execution_count": null,
   "metadata": {},
   "outputs": [],
   "source": []
  },
  {
   "cell_type": "markdown",
   "metadata": {},
   "source": [
    "Well, the above results are obtained for the data which was already stored.\n",
    "\n",
    "<br>\n",
    "\n",
    "### But, what about **Streaming data**?"
   ]
  },
  {
   "cell_type": "markdown",
   "metadata": {},
   "source": [
    "**Streaming data** - that data that is continuously generated by different sources is called streaming data.\n",
    "\n",
    "* For example - \n",
    "    - Tesla Self-driving Car generates the data continuously.\n",
    "    - One tesla car generates 11 TB and 152 TB data per day.\n",
    "        - Big data problem\n",
    "    - More information → https://www.tuxera.com/blog/autonomous-and-adas-test-cars-produce-over-11-tb-of-data-per-day/"
   ]
  },
  {
   "cell_type": "code",
   "execution_count": null,
   "metadata": {},
   "outputs": [],
   "source": []
  },
  {
   "cell_type": "code",
   "execution_count": null,
   "metadata": {},
   "outputs": [],
   "source": []
  },
  {
   "cell_type": "markdown",
   "metadata": {},
   "source": [
    "### Case Study → Activity\n",
    "\n",
    "1. Select any one of these or you can find your own topic of interest not specifically from below.\n",
    "\n",
    "    * Study to analyse peoples' habits on YouTube platform\n",
    "    * Study to analyse the changes occurred in peoples' life due to Demonotization\n",
    "    * Study to analyse the students' overall development due to online education\n",
    "\n",
    "2. Create a google form where you can have a set of questions and answer options.\n",
    "    - Have atleast 8 to 10 questions\n",
    "3. Collect the data from your friends, families etc (by sharing the link).\n",
    "    - The data will be stored in your drive (in a spreasheet)\n",
    "4. Once the data is collected - \n",
    "    - Create your own data variables from the questions\n",
    "    - Try to basic analysis like processing and visualization\n",
    "\n",
    "<br>\n",
    "\n",
    "**Note** - To learn how to create google forms (Questionnaires) and collect the data, \n",
    "* Please watch this video → **https://www.youtube.com/watch?v=vQw2jDlylDU**"
   ]
  }
 ],
 "metadata": {
  "kernelspec": {
   "display_name": "Python 3",
   "language": "python",
   "name": "python3"
  },
  "language_info": {
   "codemirror_mode": {
    "name": "ipython",
    "version": 3
   },
   "file_extension": ".py",
   "mimetype": "text/x-python",
   "name": "python",
   "nbconvert_exporter": "python",
   "pygments_lexer": "ipython3",
   "version": "3.8.4"
  }
 },
 "nbformat": 4,
 "nbformat_minor": 4
}

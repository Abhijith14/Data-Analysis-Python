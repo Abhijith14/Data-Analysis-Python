{
 "cells": [
  {
   "cell_type": "code",
   "execution_count": 1,
   "metadata": {
    "scrolled": false
   },
   "outputs": [
    {
     "data": {
      "text/html": [
       "<div id=\"glowscript\" class=\"glowscript\"></div>"
      ],
      "text/plain": [
       "<IPython.core.display.HTML object>"
      ]
     },
     "metadata": {},
     "output_type": "display_data"
    },
    {
     "data": {
      "application/javascript": [
       "if (typeof Jupyter !== \"undefined\") { window.__context = { glowscript_container: $(\"#glowscript\").removeAttr(\"id\")};}else{ element.textContent = ' ';}"
      ],
      "text/plain": [
       "<IPython.core.display.Javascript object>"
      ]
     },
     "metadata": {},
     "output_type": "display_data"
    },
    {
     "data": {
      "application/javascript": [
       "if (typeof Jupyter !== \"undefined\") {require.undef(\"nbextensions/vpython_libraries/glow.min\");}else{element.textContent = ' ';}"
      ],
      "text/plain": [
       "<IPython.core.display.Javascript object>"
      ]
     },
     "metadata": {},
     "output_type": "display_data"
    },
    {
     "data": {
      "application/javascript": [
       "if (typeof Jupyter !== \"undefined\") {require.undef(\"nbextensions/vpython_libraries/glowcomm\");}else{element.textContent = ' ';}"
      ],
      "text/plain": [
       "<IPython.core.display.Javascript object>"
      ]
     },
     "metadata": {},
     "output_type": "display_data"
    },
    {
     "data": {
      "application/javascript": [
       "if (typeof Jupyter !== \"undefined\") {require.undef(\"nbextensions/vpython_libraries/jquery-ui.custom.min\");}else{element.textContent = ' ';}"
      ],
      "text/plain": [
       "<IPython.core.display.Javascript object>"
      ]
     },
     "metadata": {},
     "output_type": "display_data"
    },
    {
     "data": {
      "application/javascript": [
       "if (typeof Jupyter !== \"undefined\") {require([\"nbextensions/vpython_libraries/glow.min\"], function(){console.log(\"GLOW LOADED\");});}else{element.textContent = ' ';}"
      ],
      "text/plain": [
       "<IPython.core.display.Javascript object>"
      ]
     },
     "metadata": {},
     "output_type": "display_data"
    },
    {
     "data": {
      "application/javascript": [
       "if (typeof Jupyter !== \"undefined\") {require([\"nbextensions/vpython_libraries/glowcomm\"], function(){console.log(\"GLOWCOMM LOADED\");});}else{element.textContent = ' ';}"
      ],
      "text/plain": [
       "<IPython.core.display.Javascript object>"
      ]
     },
     "metadata": {},
     "output_type": "display_data"
    },
    {
     "data": {
      "application/javascript": [
       "if (typeof Jupyter !== \"undefined\") {require([\"nbextensions/vpython_libraries/jquery-ui.custom.min\"], function(){console.log(\"JQUERY LOADED\");});}else{element.textContent = ' ';}"
      ],
      "text/plain": [
       "<IPython.core.display.Javascript object>"
      ]
     },
     "metadata": {},
     "output_type": "display_data"
    }
   ],
   "source": [
    "from vpython import *\n",
    "import random\n",
    "import time\n",
    "\n",
    "def rocket_launcher():\n",
    "    \n",
    "    \"\"\"\n",
    "    This is a simulation of a rocket which is launched in space to the miller planet.\n",
    "    Live tracking and plotting of the data\n",
    "        - Distance plot of earth and rocket is visualized in blue\n",
    "        - Fuel plot of the rocket is visualized in green\n",
    "    As the rocket moves from earth, the distance between rocket and earth increases.\n",
    "    As the rocket moves continuously, the fuel decreases.\n",
    "    \"\"\"\n",
    "    \n",
    "    miller_planet = sphere(\n",
    "        pos=vector(0,20,0), \n",
    "        color=color.orange, \n",
    "        radius=1.2, \n",
    "        make_trail=True\n",
    "    )\n",
    "    \n",
    "    earth = sphere(\n",
    "        pos=vector(0,-21,-1), \n",
    "        color=color.cyan, \n",
    "        radius=0.95, \n",
    "        make_trail=True\n",
    "    )\n",
    "    \n",
    "    falcon = arrow(\n",
    "        pos=vector(0,-20,-1), \n",
    "        axis=vector(0,1,0), \n",
    "        color=color.white, \n",
    "        shaftwidth=0.4, \n",
    "        visible=True\n",
    "    )\n",
    "\n",
    "    distance_graph = gcurve(color=color.blue)\n",
    "    fuel_graph = gcurve(color=color.green)\n",
    "    \n",
    "    t_value = 0\n",
    "    fuel = 100\n",
    "    \n",
    "    i = -20\n",
    "    while i <= 25:\n",
    "        rate(20)\n",
    "        falcon.pos.y = i\n",
    "        \n",
    "        t_value += 0.4\n",
    "        fuel -= 1.2\n",
    "        distance_graph.plot((t_value, i + 20))\n",
    "        fuel_graph.plot((t_value, fuel))\n",
    "        \n",
    "        time.sleep(0.2)\n",
    "        i += 0.4\n",
    "        \n",
    "    j = 25\n",
    "    while j >= 21.2:\n",
    "        rate(20)\n",
    "        falcon.pos.y = j\n",
    "        \n",
    "        t_value += 0.4\n",
    "        fuel -= 2.5\n",
    "        distance_graph.plot((t_value, j))\n",
    "        fuel_graph.plot((t_value, fuel))\n",
    "        \n",
    "        time.sleep(0.2)\n",
    "        j -= 0.4\n",
    "    \n",
    "    return None\n",
    "\n",
    "## function call\n",
    "rocket_launcher()"
   ]
  },
  {
   "cell_type": "code",
   "execution_count": null,
   "metadata": {},
   "outputs": [],
   "source": []
  }
 ],
 "metadata": {
  "kernelspec": {
   "display_name": "Python 3",
   "language": "python",
   "name": "python3"
  },
  "language_info": {
   "codemirror_mode": {
    "name": "ipython",
    "version": 3
   },
   "file_extension": ".py",
   "mimetype": "text/x-python",
   "name": "python",
   "nbconvert_exporter": "python",
   "pygments_lexer": "ipython3",
   "version": "3.8.4"
  }
 },
 "nbformat": 4,
 "nbformat_minor": 4
}

{
 "cells": [
  {
   "cell_type": "markdown",
   "metadata": {},
   "source": [
    "<center><h1>Introduction to Data Analytics</h1></center>"
   ]
  },
  {
   "cell_type": "markdown",
   "metadata": {},
   "source": [
    "<!-- <br> -->\n",
    "\n",
    "<!-- <img src=\"https://www.scnsoft.com/blog-pictures/business-intelligence/real-time-big-data-analytics-01_1.png\"> -->\n",
    "\n",
    "<!-- **Credits** - Image from Internet (https://www.scnsoft.com/) -->\n",
    "\n",
    "<!-- <br> -->"
   ]
  },
  {
   "cell_type": "markdown",
   "metadata": {},
   "source": [
    "### Data Analytics - General Meaning"
   ]
  },
  {
   "cell_type": "markdown",
   "metadata": {},
   "source": [
    "In layman terminology, Data Analysis is simply understanding the given data to get proper insights (useful information).\n",
    "\n",
    "* **Data** - Facts and Figures\n",
    "\n",
    "* **Information**\n",
    "    - Data which is processed is called information.\n",
    "    - Information is thus understood better.\n",
    "\n",
    "<br>\n",
    "\n",
    "<img src=\"https://raw.githubusercontent.com/msameeruddin/Data-Analysis-Python/main/1_DA_Intro/in_out_model.png\">\n",
    "\n",
    "<br>\n",
    "\n",
    "**Image by author**"
   ]
  },
  {
   "cell_type": "markdown",
   "metadata": {},
   "source": [
    "### How do we get the data?"
   ]
  },
  {
   "cell_type": "markdown",
   "metadata": {},
   "source": [
    "First identify in which domain you want to collect the data.\n",
    "\n",
    "**For example** → \n",
    "* Study to analyse peoples' habits on YouTube platform\n",
    "* Study to analyse the changes occurred in peoples' life due to Demonotization\n",
    "* Study to analyse the students' overall development due to online education\n",
    "\n",
    "We can collect data by the following methods\n",
    "\n",
    "    - Data Collection → Collection of data through\n",
    "                        1. Person to Person Survey\n",
    "                        2. Online Questionnaire (Google Forms)\n",
    "                        3. Online Tracking\n",
    "                        4. Many more"
   ]
  },
  {
   "cell_type": "markdown",
   "metadata": {},
   "source": [
    "### How do we understand the data?"
   ]
  },
  {
   "cell_type": "markdown",
   "metadata": {},
   "source": [
    "Through\n",
    "\n",
    "    - Inspection      → Careful Observation                   \n",
    "    - Cleansing       → Data Cleaning\n",
    "    - Transforming    → Change the structure of the data\n",
    "    - Modelling       → Mathematical and Statistical study\n",
    "\n",
    "For implementing the above methods we need to have data."
   ]
  },
  {
   "cell_type": "markdown",
   "metadata": {},
   "source": [
    "### Let's understand in a broader perspective"
   ]
  },
  {
   "cell_type": "markdown",
   "metadata": {},
   "source": [
    "Imagine you are a class teacher of a certain class and you want to make sure your students do participate in the `Sports Meet` coming in the near future. To ensure that you will need the data of the students like height and weight.\n",
    "\n",
    "### Data Collection\n",
    "\n",
    "Data variables that are most commonly required are - \n",
    "\n",
    "* Student Roll number/Name\n",
    "* Student Height\n",
    "* Student Weight\n",
    "\n",
    "Since you are the class teacher, data is obtained with less effort.\n",
    "\n",
    "| Roll no | Height (ft) | Weight (kg) |\n",
    "| --- | --- | --- |\n",
    "| 1 |5 | 40 |\n",
    "| 2 | 4.8 | 45 |\n",
    "| 3 | 5.3 | 48 |\n",
    "| 4 | 6 | 52 |\n",
    "| 5 | 5.5 | 53 |\n",
    "| ... | ... | ...|\n",
    "| 60 | 5.8 | 50 |"
   ]
  },
  {
   "cell_type": "markdown",
   "metadata": {},
   "source": [
    "### Case Study"
   ]
  },
  {
   "cell_type": "markdown",
   "metadata": {},
   "source": [
    "If you, as a teacher give this collected data to the principal, does the principal be able to understand how many are going take part in the Sports Meet?"
   ]
  },
  {
   "cell_type": "code",
   "execution_count": null,
   "metadata": {},
   "outputs": [],
   "source": []
  },
  {
   "cell_type": "code",
   "execution_count": null,
   "metadata": {},
   "outputs": [],
   "source": []
  },
  {
   "cell_type": "code",
   "execution_count": null,
   "metadata": {},
   "outputs": [],
   "source": []
  },
  {
   "cell_type": "code",
   "execution_count": null,
   "metadata": {},
   "outputs": [],
   "source": []
  },
  {
   "cell_type": "markdown",
   "metadata": {},
   "source": [
    "### Scenario 1 - Worst case"
   ]
  },
  {
   "cell_type": "markdown",
   "metadata": {},
   "source": [
    "Without any further notice, you will be either warned or fired for not meeting the institute's requirement."
   ]
  },
  {
   "cell_type": "code",
   "execution_count": null,
   "metadata": {},
   "outputs": [],
   "source": []
  },
  {
   "cell_type": "code",
   "execution_count": null,
   "metadata": {},
   "outputs": [],
   "source": []
  },
  {
   "cell_type": "code",
   "execution_count": null,
   "metadata": {},
   "outputs": [],
   "source": []
  },
  {
   "cell_type": "code",
   "execution_count": null,
   "metadata": {},
   "outputs": [],
   "source": []
  },
  {
   "cell_type": "markdown",
   "metadata": {},
   "source": [
    "### Scenario 2 - Best case"
   ]
  },
  {
   "cell_type": "markdown",
   "metadata": {},
   "source": [
    "Since the principal is the one who decides the future of your employment, you will take measures to get the proper information from the data.\n",
    "\n",
    "Like - \n",
    "\n",
    "**First Stage**\n",
    "\n",
    "* Average Height → `5.6 ft`\n",
    "* Average Weight → `70 kgs`\n",
    "\n",
    "**Second Stage**\n",
    "\n",
    "* Correlation - Relationship between height and weight → `89%`\n",
    "    - Studying or understanding how one parameter/variable affect another variable\n",
    "    - If the height of person is more, then what is the weight (more or less)\n",
    "\n",
    "**Third Stage**\n",
    "\n",
    "* Interpretation\n",
    "    - If the height is more, the person is more suitable for long jump or high jump\n",
    "    - If the weight is more, the person is more suitable for weight lifting\n",
    "    - If both height and weight is more, the person is suitable for both long jump and weight lifting"
   ]
  },
  {
   "cell_type": "markdown",
   "metadata": {},
   "source": [
    "### Result"
   ]
  },
  {
   "cell_type": "markdown",
   "metadata": {},
   "source": [
    "Based on the above results the institue can be able to decide what to do further.\n",
    "\n",
    "* Either proceed to take part in the Sports Meet or not.\n",
    "    - If yes, then what is the percentage of winning the competition."
   ]
  },
  {
   "cell_type": "markdown",
   "metadata": {},
   "source": [
    "### How was this possible?"
   ]
  },
  {
   "cell_type": "markdown",
   "metadata": {},
   "source": [
    "It was all possible because of the availability of certain facts (data) which got processed into information and with certain statistical measure we were able to decide what to do (whether to take part or not).\n",
    "\n",
    "\n",
    "## $$D_m = f(A, B, C, D)$$\n",
    "\n",
    "where\n",
    "\n",
    "* $A$ → Adequate data\n",
    "* $B$ → Relevant data\n",
    "* $C$ → Reliable data\n",
    "* $D$ → Timely data\n",
    "\n",
    "and \n",
    "\n",
    "* $f$ → function of data processing\n",
    "* $D_m$ → Decision making"
   ]
  },
  {
   "cell_type": "markdown",
   "metadata": {},
   "source": [
    "### Lets's understand the same in the Business perspective"
   ]
  },
  {
   "cell_type": "markdown",
   "metadata": {},
   "source": [
    "As a Data Analyst your role would be something like the above example\n",
    "\n",
    "* Collecting the right data\n",
    "* Converting the right data into information\n",
    "* Applying statistical methods for decision making\n",
    "    - Interpreting the results\n",
    "    - predicting the future results\n",
    "    - Concluding"
   ]
  },
  {
   "cell_type": "markdown",
   "metadata": {},
   "source": [
    "### Activity → Homework"
   ]
  },
  {
   "cell_type": "markdown",
   "metadata": {},
   "source": [
    "* Take any one of these domains below or if you want take your own domain, (You are good to go) - \n",
    "\n",
    "    - Study to analyse peoples' habits on YouTube platform\n",
    "    - Study to analyse the changes occurred in peoples' life due to Demonotization\n",
    "    - Study to analyse the students' overall development due to online education\n",
    "\n",
    "* You are required to come up with a list of questions ( **Maximum questions 5** ) from which you can get the data that is needed.\n",
    "\n",
    "* After forming the questions try to identify the variables.\n",
    "\n",
    "**For example** → Topic - `Study to analyse peoples' habits on YouTube platform`\n",
    "\n",
    "**Questions**\n",
    "\n",
    "    1. How much time do you spend on youtube daily?\n",
    "        a) 1 hour       b) 2 hours\n",
    "        c) 3 hours      d) NIL\n",
    "    2. What kind of videos do you watch?\n",
    "        a) Education    b) Fun\n",
    "        c) Movies       d) Random videos\n",
    "    3.\n",
    "    4.\n",
    "    5.\n",
    "\n",
    "**Variables**\n",
    "\n",
    "    1. spending_time\n",
    "    2. video_type\n",
    "    3. \n",
    "    4.\n",
    "    5."
   ]
  },
  {
   "cell_type": "markdown",
   "metadata": {},
   "source": [
    "## The End"
   ]
  }
 ],
 "metadata": {
  "kernelspec": {
   "display_name": "Python 3",
   "language": "python",
   "name": "python3"
  },
  "language_info": {
   "codemirror_mode": {
    "name": "ipython",
    "version": 3
   },
   "file_extension": ".py",
   "mimetype": "text/x-python",
   "name": "python",
   "nbconvert_exporter": "python",
   "pygments_lexer": "ipython3",
   "version": "3.8.4"
  }
 },
 "nbformat": 4,
 "nbformat_minor": 4
}
